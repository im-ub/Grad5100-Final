{
 "cells": [
  {
   "cell_type": "markdown",
   "id": "d244c79b",
   "metadata": {},
   "source": [
    "# <center> GRAD5100 - Final project </center>\n",
    "## Part Three\n",
    "## Yoobee Lim"
   ]
  },
  {
   "cell_type": "code",
   "execution_count": 1,
   "id": "ff3fa8e6",
   "metadata": {},
   "outputs": [],
   "source": [
    "import sqlalchemy as sqla\n",
    "import pymysql\n",
    "import pandas as pd\n",
    "import os\n",
    "import numpy as np"
   ]
  },
  {
   "cell_type": "code",
   "execution_count": 2,
   "id": "84da3fa8",
   "metadata": {},
   "outputs": [],
   "source": [
    "username='user'\n",
    "password='grad5100user'\n",
    "awsresource='database-1.cwvjklnp4wu3.us-east-1.rds.amazonaws.com'\n",
    "dbname='topChef'\n",
    "port = 3306\n",
    "\n",
    "dburi = f\"mysql+pymysql://{username}:{password}@{awsresource}:{port}/{dbname}\"\n",
    "engine = sqla.create_engine(dburi)"
   ]
  },
  {
   "cell_type": "code",
   "execution_count": 3,
   "id": "aa036ae3",
   "metadata": {},
   "outputs": [],
   "source": [
    "def run_sql(sql, engine):\n",
    "    \"send sql to database given by engine and return the result\"\n",
    "    with engine.connect() as conn:\n",
    "        result = conn.execute(sqla.text(sql))\n",
    "    return result.all()\n",
    "\n",
    "\n",
    "def df_select(sql, engine):\n",
    "    \"send sql to database given by engine and return the result as a pandas dataframe\"\n",
    "    with engine.connect() as conn:\n",
    "        result = pd.read_sql(sqla.text(sql), con=conn)\n",
    "    print(f\"Retrieved {result.shape[0]} records\")\n",
    "    return result"
   ]
  },
  {
   "cell_type": "code",
   "execution_count": 4,
   "id": "ebe0e1e5",
   "metadata": {},
   "outputs": [
    {
     "name": "stdout",
     "output_type": "stream",
     "text": [
      "('challengedescriptions',)\n",
      "('challengewins',)\n",
      "('chefdetails',)\n",
      "('episodeinfo',)\n",
      "('judges',)\n",
      "('rewards',)\n"
     ]
    }
   ],
   "source": [
    "tables = run_sql(\"show tables;\", engine)\n",
    "for x in tables:\n",
    "    print(x)"
   ]
  },
  {
   "cell_type": "markdown",
   "id": "fb7efc76",
   "metadata": {},
   "source": [
    "# 1. Create Tables\n",
    "\n",
    "## i. chefdetails"
   ]
  },
  {
   "cell_type": "code",
   "execution_count": 5,
   "id": "e08b755b",
   "metadata": {},
   "outputs": [
    {
     "data": {
      "text/html": [
       "<div>\n",
       "<style scoped>\n",
       "    .dataframe tbody tr th:only-of-type {\n",
       "        vertical-align: middle;\n",
       "    }\n",
       "\n",
       "    .dataframe tbody tr th {\n",
       "        vertical-align: top;\n",
       "    }\n",
       "\n",
       "    .dataframe thead th {\n",
       "        text-align: right;\n",
       "    }\n",
       "</style>\n",
       "<table border=\"1\" class=\"dataframe\">\n",
       "  <thead>\n",
       "    <tr style=\"text-align: right;\">\n",
       "      <th></th>\n",
       "      <th>num</th>\n",
       "      <th>name</th>\n",
       "      <th>chef</th>\n",
       "      <th>hometown</th>\n",
       "      <th>city</th>\n",
       "      <th>state</th>\n",
       "      <th>age</th>\n",
       "      <th>season</th>\n",
       "      <th>seasonNumber</th>\n",
       "      <th>series</th>\n",
       "      <th>placement</th>\n",
       "      <th>personOfColor</th>\n",
       "      <th>occupation</th>\n",
       "      <th>gender</th>\n",
       "    </tr>\n",
       "  </thead>\n",
       "  <tbody>\n",
       "    <tr>\n",
       "      <th>0</th>\n",
       "      <td>0</td>\n",
       "      <td>Richard Blais</td>\n",
       "      <td>Richard B.</td>\n",
       "      <td>None</td>\n",
       "      <td>None</td>\n",
       "      <td>None</td>\n",
       "      <td>38.0</td>\n",
       "      <td>All Stars: New York</td>\n",
       "      <td>8</td>\n",
       "      <td>US</td>\n",
       "      <td>1</td>\n",
       "      <td>None</td>\n",
       "      <td>Owner</td>\n",
       "      <td>Male</td>\n",
       "    </tr>\n",
       "    <tr>\n",
       "      <th>1</th>\n",
       "      <td>1</td>\n",
       "      <td>Mike Isabella</td>\n",
       "      <td>Mike I.</td>\n",
       "      <td>None</td>\n",
       "      <td>None</td>\n",
       "      <td>None</td>\n",
       "      <td>35.0</td>\n",
       "      <td>All Stars: New York</td>\n",
       "      <td>8</td>\n",
       "      <td>US</td>\n",
       "      <td>2</td>\n",
       "      <td>None</td>\n",
       "      <td>Executive Chef/Owner</td>\n",
       "      <td>Male</td>\n",
       "    </tr>\n",
       "    <tr>\n",
       "      <th>2</th>\n",
       "      <td>2</td>\n",
       "      <td>Antonia Lofaso</td>\n",
       "      <td>Antonia L.</td>\n",
       "      <td>None</td>\n",
       "      <td>None</td>\n",
       "      <td>None</td>\n",
       "      <td>34.0</td>\n",
       "      <td>All Stars: New York</td>\n",
       "      <td>8</td>\n",
       "      <td>US</td>\n",
       "      <td>3</td>\n",
       "      <td>None</td>\n",
       "      <td>Executive Chef</td>\n",
       "      <td>Female</td>\n",
       "    </tr>\n",
       "    <tr>\n",
       "      <th>3</th>\n",
       "      <td>3</td>\n",
       "      <td>Tiffany Derry</td>\n",
       "      <td>Tiffany D.</td>\n",
       "      <td>None</td>\n",
       "      <td>None</td>\n",
       "      <td>None</td>\n",
       "      <td>27.0</td>\n",
       "      <td>All Stars: New York</td>\n",
       "      <td>8</td>\n",
       "      <td>US</td>\n",
       "      <td>4</td>\n",
       "      <td>POC</td>\n",
       "      <td>Executive Chef</td>\n",
       "      <td>Female</td>\n",
       "    </tr>\n",
       "    <tr>\n",
       "      <th>4</th>\n",
       "      <td>4</td>\n",
       "      <td>Carla Hall</td>\n",
       "      <td>Carla H.</td>\n",
       "      <td>None</td>\n",
       "      <td>None</td>\n",
       "      <td>None</td>\n",
       "      <td>46.0</td>\n",
       "      <td>All Stars: New York</td>\n",
       "      <td>8</td>\n",
       "      <td>US</td>\n",
       "      <td>5</td>\n",
       "      <td>POC</td>\n",
       "      <td>Chef/Owner</td>\n",
       "      <td>Female</td>\n",
       "    </tr>\n",
       "  </tbody>\n",
       "</table>\n",
       "</div>"
      ],
      "text/plain": [
       "   num            name        chef hometown  city state   age  \\\n",
       "0    0   Richard Blais  Richard B.     None  None  None  38.0   \n",
       "1    1   Mike Isabella     Mike I.     None  None  None  35.0   \n",
       "2    2  Antonia Lofaso  Antonia L.     None  None  None  34.0   \n",
       "3    3   Tiffany Derry  Tiffany D.     None  None  None  27.0   \n",
       "4    4      Carla Hall    Carla H.     None  None  None  46.0   \n",
       "\n",
       "                season  seasonNumber series  placement personOfColor  \\\n",
       "0  All Stars: New York             8     US          1          None   \n",
       "1  All Stars: New York             8     US          2          None   \n",
       "2  All Stars: New York             8     US          3          None   \n",
       "3  All Stars: New York             8     US          4           POC   \n",
       "4  All Stars: New York             8     US          5           POC   \n",
       "\n",
       "             occupation  gender  \n",
       "0                 Owner    Male  \n",
       "1  Executive Chef/Owner    Male  \n",
       "2        Executive Chef  Female  \n",
       "3        Executive Chef  Female  \n",
       "4            Chef/Owner  Female  "
      ]
     },
     "execution_count": 5,
     "metadata": {},
     "output_type": "execute_result"
    }
   ],
   "source": [
    "with engine.connect() as conn:\n",
    "    df_chefdetails = pd.read_sql(\n",
    "       sqla.text(\"SELECT * FROM chefdetails WHERE season NOT LIKE '%Masters%' AND season NOT LIKE '%Canada%' ;\"\n",
    "                ), conn\n",
    "   )\n",
    "df_chefdetails.head()"
   ]
  },
  {
   "cell_type": "markdown",
   "id": "60a4998c",
   "metadata": {},
   "source": [
    "### 2-ii Include only the columns of interest"
   ]
  },
  {
   "cell_type": "code",
   "execution_count": 6,
   "id": "4ac14568",
   "metadata": {},
   "outputs": [
    {
     "data": {
      "text/plain": [
       "Index(['num', 'name', 'chef', 'hometown', 'city', 'state', 'age', 'season',\n",
       "       'seasonNumber', 'series', 'placement', 'personOfColor', 'occupation',\n",
       "       'gender'],\n",
       "      dtype='object')"
      ]
     },
     "execution_count": 6,
     "metadata": {},
     "output_type": "execute_result"
    }
   ],
   "source": [
    "df_chefdetails.columns"
   ]
  },
  {
   "cell_type": "code",
   "execution_count": 7,
   "id": "9482184e",
   "metadata": {},
   "outputs": [
    {
     "data": {
      "text/html": [
       "<div>\n",
       "<style scoped>\n",
       "    .dataframe tbody tr th:only-of-type {\n",
       "        vertical-align: middle;\n",
       "    }\n",
       "\n",
       "    .dataframe tbody tr th {\n",
       "        vertical-align: top;\n",
       "    }\n",
       "\n",
       "    .dataframe thead th {\n",
       "        text-align: right;\n",
       "    }\n",
       "</style>\n",
       "<table border=\"1\" class=\"dataframe\">\n",
       "  <thead>\n",
       "    <tr style=\"text-align: right;\">\n",
       "      <th></th>\n",
       "      <th>season</th>\n",
       "      <th>seasonNumber</th>\n",
       "      <th>name</th>\n",
       "      <th>placement</th>\n",
       "      <th>gender</th>\n",
       "    </tr>\n",
       "  </thead>\n",
       "  <tbody>\n",
       "    <tr>\n",
       "      <th>0</th>\n",
       "      <td>All Stars: New York</td>\n",
       "      <td>8</td>\n",
       "      <td>Richard Blais</td>\n",
       "      <td>1</td>\n",
       "      <td>Male</td>\n",
       "    </tr>\n",
       "    <tr>\n",
       "      <th>1</th>\n",
       "      <td>All Stars: New York</td>\n",
       "      <td>8</td>\n",
       "      <td>Mike Isabella</td>\n",
       "      <td>2</td>\n",
       "      <td>Male</td>\n",
       "    </tr>\n",
       "    <tr>\n",
       "      <th>2</th>\n",
       "      <td>All Stars: New York</td>\n",
       "      <td>8</td>\n",
       "      <td>Antonia Lofaso</td>\n",
       "      <td>3</td>\n",
       "      <td>Female</td>\n",
       "    </tr>\n",
       "    <tr>\n",
       "      <th>3</th>\n",
       "      <td>All Stars: New York</td>\n",
       "      <td>8</td>\n",
       "      <td>Tiffany Derry</td>\n",
       "      <td>4</td>\n",
       "      <td>Female</td>\n",
       "    </tr>\n",
       "    <tr>\n",
       "      <th>4</th>\n",
       "      <td>All Stars: New York</td>\n",
       "      <td>8</td>\n",
       "      <td>Carla Hall</td>\n",
       "      <td>5</td>\n",
       "      <td>Female</td>\n",
       "    </tr>\n",
       "  </tbody>\n",
       "</table>\n",
       "</div>"
      ],
      "text/plain": [
       "                season  seasonNumber            name  placement  gender\n",
       "0  All Stars: New York             8   Richard Blais          1    Male\n",
       "1  All Stars: New York             8   Mike Isabella          2    Male\n",
       "2  All Stars: New York             8  Antonia Lofaso          3  Female\n",
       "3  All Stars: New York             8   Tiffany Derry          4  Female\n",
       "4  All Stars: New York             8      Carla Hall          5  Female"
      ]
     },
     "execution_count": 7,
     "metadata": {},
     "output_type": "execute_result"
    }
   ],
   "source": [
    "df_chefdetails = df_chefdetails[['season','seasonNumber','name','placement','gender']]\n",
    "df_chefdetails.head()"
   ]
  },
  {
   "cell_type": "markdown",
   "id": "7a53a1a7",
   "metadata": {},
   "source": [
    "## ii. judges "
   ]
  },
  {
   "cell_type": "code",
   "execution_count": 8,
   "id": "9412560c",
   "metadata": {},
   "outputs": [
    {
     "data": {
      "text/html": [
       "<div>\n",
       "<style scoped>\n",
       "    .dataframe tbody tr th:only-of-type {\n",
       "        vertical-align: middle;\n",
       "    }\n",
       "\n",
       "    .dataframe tbody tr th {\n",
       "        vertical-align: top;\n",
       "    }\n",
       "\n",
       "    .dataframe thead th {\n",
       "        text-align: right;\n",
       "    }\n",
       "</style>\n",
       "<table border=\"1\" class=\"dataframe\">\n",
       "  <thead>\n",
       "    <tr style=\"text-align: right;\">\n",
       "      <th></th>\n",
       "      <th>num</th>\n",
       "      <th>season</th>\n",
       "      <th>seasonNumber</th>\n",
       "      <th>series</th>\n",
       "      <th>episode</th>\n",
       "      <th>challengeType</th>\n",
       "      <th>outcomeType</th>\n",
       "      <th>guestJudge</th>\n",
       "      <th>competedOnTC</th>\n",
       "      <th>otherShows</th>\n",
       "    </tr>\n",
       "  </thead>\n",
       "  <tbody>\n",
       "    <tr>\n",
       "      <th>0</th>\n",
       "      <td>0</td>\n",
       "      <td>All Stars: New York</td>\n",
       "      <td>8</td>\n",
       "      <td>US</td>\n",
       "      <td>1</td>\n",
       "      <td>Quickfire</td>\n",
       "      <td>Team</td>\n",
       "      <td>Tom Colicchio</td>\n",
       "      <td>None</td>\n",
       "      <td>Top Chef Judge</td>\n",
       "    </tr>\n",
       "    <tr>\n",
       "      <th>1</th>\n",
       "      <td>1</td>\n",
       "      <td>All Stars: New York</td>\n",
       "      <td>8</td>\n",
       "      <td>US</td>\n",
       "      <td>1</td>\n",
       "      <td>Elimination</td>\n",
       "      <td>Individual</td>\n",
       "      <td>Anthony Bourdain</td>\n",
       "      <td>None</td>\n",
       "      <td>Parts Unknown; No Reservations</td>\n",
       "    </tr>\n",
       "    <tr>\n",
       "      <th>2</th>\n",
       "      <td>2</td>\n",
       "      <td>All Stars: New York</td>\n",
       "      <td>8</td>\n",
       "      <td>US</td>\n",
       "      <td>2</td>\n",
       "      <td>Quickfire</td>\n",
       "      <td>Individual</td>\n",
       "      <td>Joe Jonas</td>\n",
       "      <td>None</td>\n",
       "      <td>None</td>\n",
       "    </tr>\n",
       "    <tr>\n",
       "      <th>3</th>\n",
       "      <td>3</td>\n",
       "      <td>All Stars: New York</td>\n",
       "      <td>8</td>\n",
       "      <td>US</td>\n",
       "      <td>2</td>\n",
       "      <td>Elimination</td>\n",
       "      <td>Team</td>\n",
       "      <td>Katie Lee</td>\n",
       "      <td>None</td>\n",
       "      <td>Beat Bobby Flay Judge</td>\n",
       "    </tr>\n",
       "    <tr>\n",
       "      <th>4</th>\n",
       "      <td>4</td>\n",
       "      <td>All Stars: New York</td>\n",
       "      <td>8</td>\n",
       "      <td>US</td>\n",
       "      <td>3</td>\n",
       "      <td>Quickfire</td>\n",
       "      <td>Team</td>\n",
       "      <td>David Chang</td>\n",
       "      <td>None</td>\n",
       "      <td>None</td>\n",
       "    </tr>\n",
       "  </tbody>\n",
       "</table>\n",
       "</div>"
      ],
      "text/plain": [
       "   num               season  seasonNumber series  episode challengeType  \\\n",
       "0    0  All Stars: New York             8     US        1     Quickfire   \n",
       "1    1  All Stars: New York             8     US        1   Elimination   \n",
       "2    2  All Stars: New York             8     US        2     Quickfire   \n",
       "3    3  All Stars: New York             8     US        2   Elimination   \n",
       "4    4  All Stars: New York             8     US        3     Quickfire   \n",
       "\n",
       "  outcomeType        guestJudge competedOnTC                      otherShows  \n",
       "0        Team     Tom Colicchio         None                  Top Chef Judge  \n",
       "1  Individual  Anthony Bourdain         None  Parts Unknown; No Reservations  \n",
       "2  Individual         Joe Jonas         None                            None  \n",
       "3        Team         Katie Lee         None           Beat Bobby Flay Judge  \n",
       "4        Team       David Chang         None                            None  "
      ]
     },
     "execution_count": 8,
     "metadata": {},
     "output_type": "execute_result"
    }
   ],
   "source": [
    "with engine.connect() as conn:\n",
    "    df_judges = pd.read_sql(\n",
    "       sqla.text(\"SELECT * FROM judges WHERE season NOT LIKE '%Masters%' AND season NOT LIKE '%Canada%' ;\"\n",
    "                ), conn\n",
    "   )\n",
    "df_judges.head()"
   ]
  },
  {
   "cell_type": "code",
   "execution_count": 9,
   "id": "4f8f70f8",
   "metadata": {},
   "outputs": [],
   "source": [
    "# In judges table there was weired data in season that has space : 'Charleston '\n",
    "# To handle this ...\n",
    "\n",
    "df_judges['season'] = df_judges['season'].str.replace('Charleston ', 'Charleston')"
   ]
  },
  {
   "cell_type": "markdown",
   "id": "33a13139",
   "metadata": {},
   "source": [
    "### 2- ii. Include only the columns of interest"
   ]
  },
  {
   "cell_type": "code",
   "execution_count": 10,
   "id": "2af1f209",
   "metadata": {},
   "outputs": [
    {
     "data": {
      "text/html": [
       "<div>\n",
       "<style scoped>\n",
       "    .dataframe tbody tr th:only-of-type {\n",
       "        vertical-align: middle;\n",
       "    }\n",
       "\n",
       "    .dataframe tbody tr th {\n",
       "        vertical-align: top;\n",
       "    }\n",
       "\n",
       "    .dataframe thead th {\n",
       "        text-align: right;\n",
       "    }\n",
       "</style>\n",
       "<table border=\"1\" class=\"dataframe\">\n",
       "  <thead>\n",
       "    <tr style=\"text-align: right;\">\n",
       "      <th></th>\n",
       "      <th>season</th>\n",
       "      <th>seasonNumber</th>\n",
       "      <th>episode</th>\n",
       "      <th>challengeType</th>\n",
       "      <th>guestJudge</th>\n",
       "      <th>competedOnTC</th>\n",
       "    </tr>\n",
       "  </thead>\n",
       "  <tbody>\n",
       "    <tr>\n",
       "      <th>0</th>\n",
       "      <td>All Stars: New York</td>\n",
       "      <td>8</td>\n",
       "      <td>1</td>\n",
       "      <td>Quickfire</td>\n",
       "      <td>Tom Colicchio</td>\n",
       "      <td>None</td>\n",
       "    </tr>\n",
       "    <tr>\n",
       "      <th>1</th>\n",
       "      <td>All Stars: New York</td>\n",
       "      <td>8</td>\n",
       "      <td>1</td>\n",
       "      <td>Elimination</td>\n",
       "      <td>Anthony Bourdain</td>\n",
       "      <td>None</td>\n",
       "    </tr>\n",
       "    <tr>\n",
       "      <th>2</th>\n",
       "      <td>All Stars: New York</td>\n",
       "      <td>8</td>\n",
       "      <td>2</td>\n",
       "      <td>Quickfire</td>\n",
       "      <td>Joe Jonas</td>\n",
       "      <td>None</td>\n",
       "    </tr>\n",
       "    <tr>\n",
       "      <th>3</th>\n",
       "      <td>All Stars: New York</td>\n",
       "      <td>8</td>\n",
       "      <td>2</td>\n",
       "      <td>Elimination</td>\n",
       "      <td>Katie Lee</td>\n",
       "      <td>None</td>\n",
       "    </tr>\n",
       "    <tr>\n",
       "      <th>4</th>\n",
       "      <td>All Stars: New York</td>\n",
       "      <td>8</td>\n",
       "      <td>3</td>\n",
       "      <td>Quickfire</td>\n",
       "      <td>David Chang</td>\n",
       "      <td>None</td>\n",
       "    </tr>\n",
       "  </tbody>\n",
       "</table>\n",
       "</div>"
      ],
      "text/plain": [
       "                season  seasonNumber  episode challengeType        guestJudge  \\\n",
       "0  All Stars: New York             8        1     Quickfire     Tom Colicchio   \n",
       "1  All Stars: New York             8        1   Elimination  Anthony Bourdain   \n",
       "2  All Stars: New York             8        2     Quickfire         Joe Jonas   \n",
       "3  All Stars: New York             8        2   Elimination         Katie Lee   \n",
       "4  All Stars: New York             8        3     Quickfire       David Chang   \n",
       "\n",
       "  competedOnTC  \n",
       "0         None  \n",
       "1         None  \n",
       "2         None  \n",
       "3         None  \n",
       "4         None  "
      ]
     },
     "execution_count": 10,
     "metadata": {},
     "output_type": "execute_result"
    }
   ],
   "source": [
    "df_judges=df_judges[['season','seasonNumber','episode','challengeType','guestJudge','competedOnTC']]\n",
    "df_judges.head()"
   ]
  },
  {
   "cell_type": "markdown",
   "id": "5eaca02e",
   "metadata": {},
   "source": [
    "## 3. New table"
   ]
  },
  {
   "cell_type": "code",
   "execution_count": 11,
   "id": "bd3c0146",
   "metadata": {},
   "outputs": [
    {
     "data": {
      "text/html": [
       "<div>\n",
       "<style scoped>\n",
       "    .dataframe tbody tr th:only-of-type {\n",
       "        vertical-align: middle;\n",
       "    }\n",
       "\n",
       "    .dataframe tbody tr th {\n",
       "        vertical-align: top;\n",
       "    }\n",
       "\n",
       "    .dataframe thead th {\n",
       "        text-align: right;\n",
       "    }\n",
       "</style>\n",
       "<table border=\"1\" class=\"dataframe\">\n",
       "  <thead>\n",
       "    <tr style=\"text-align: right;\">\n",
       "      <th></th>\n",
       "      <th>season</th>\n",
       "      <th>seasonNumber</th>\n",
       "    </tr>\n",
       "  </thead>\n",
       "  <tbody>\n",
       "    <tr>\n",
       "      <th>16</th>\n",
       "      <td>San Francisco</td>\n",
       "      <td>1</td>\n",
       "    </tr>\n",
       "    <tr>\n",
       "      <th>11</th>\n",
       "      <td>Los Angeles</td>\n",
       "      <td>2</td>\n",
       "    </tr>\n",
       "    <tr>\n",
       "      <th>12</th>\n",
       "      <td>Miami</td>\n",
       "      <td>3</td>\n",
       "    </tr>\n",
       "    <tr>\n",
       "      <th>5</th>\n",
       "      <td>Chicago</td>\n",
       "      <td>4</td>\n",
       "    </tr>\n",
       "    <tr>\n",
       "      <th>14</th>\n",
       "      <td>New York</td>\n",
       "      <td>5</td>\n",
       "    </tr>\n",
       "    <tr>\n",
       "      <th>10</th>\n",
       "      <td>Las Vegas</td>\n",
       "      <td>6</td>\n",
       "    </tr>\n",
       "    <tr>\n",
       "      <th>6</th>\n",
       "      <td>D.C.</td>\n",
       "      <td>7</td>\n",
       "    </tr>\n",
       "    <tr>\n",
       "      <th>0</th>\n",
       "      <td>All Stars: New York</td>\n",
       "      <td>8</td>\n",
       "    </tr>\n",
       "    <tr>\n",
       "      <th>18</th>\n",
       "      <td>Texas</td>\n",
       "      <td>9</td>\n",
       "    </tr>\n",
       "    <tr>\n",
       "      <th>17</th>\n",
       "      <td>Seattle</td>\n",
       "      <td>10</td>\n",
       "    </tr>\n",
       "    <tr>\n",
       "      <th>13</th>\n",
       "      <td>New Orleans</td>\n",
       "      <td>11</td>\n",
       "    </tr>\n",
       "    <tr>\n",
       "      <th>2</th>\n",
       "      <td>Boston</td>\n",
       "      <td>12</td>\n",
       "    </tr>\n",
       "    <tr>\n",
       "      <th>3</th>\n",
       "      <td>California</td>\n",
       "      <td>13</td>\n",
       "    </tr>\n",
       "    <tr>\n",
       "      <th>4</th>\n",
       "      <td>Charleston</td>\n",
       "      <td>14</td>\n",
       "    </tr>\n",
       "    <tr>\n",
       "      <th>7</th>\n",
       "      <td>Colorado</td>\n",
       "      <td>15</td>\n",
       "    </tr>\n",
       "    <tr>\n",
       "      <th>9</th>\n",
       "      <td>Kentucky</td>\n",
       "      <td>16</td>\n",
       "    </tr>\n",
       "    <tr>\n",
       "      <th>1</th>\n",
       "      <td>All-Stars L.A.</td>\n",
       "      <td>17</td>\n",
       "    </tr>\n",
       "    <tr>\n",
       "      <th>15</th>\n",
       "      <td>Portland</td>\n",
       "      <td>18</td>\n",
       "    </tr>\n",
       "    <tr>\n",
       "      <th>8</th>\n",
       "      <td>Houston</td>\n",
       "      <td>19</td>\n",
       "    </tr>\n",
       "    <tr>\n",
       "      <th>19</th>\n",
       "      <td>World All Stars</td>\n",
       "      <td>20</td>\n",
       "    </tr>\n",
       "  </tbody>\n",
       "</table>\n",
       "</div>"
      ],
      "text/plain": [
       "                 season  seasonNumber\n",
       "16        San Francisco             1\n",
       "11          Los Angeles             2\n",
       "12                Miami             3\n",
       "5               Chicago             4\n",
       "14             New York             5\n",
       "10            Las Vegas             6\n",
       "6                  D.C.             7\n",
       "0   All Stars: New York             8\n",
       "18                Texas             9\n",
       "17              Seattle            10\n",
       "13          New Orleans            11\n",
       "2                Boston            12\n",
       "3            California            13\n",
       "4            Charleston            14\n",
       "7              Colorado            15\n",
       "9              Kentucky            16\n",
       "1        All-Stars L.A.            17\n",
       "15             Portland            18\n",
       "8               Houston            19\n",
       "19      World All Stars            20"
      ]
     },
     "execution_count": 11,
     "metadata": {},
     "output_type": "execute_result"
    }
   ],
   "source": [
    "df_season=df_chefdetails[['season','seasonNumber']].drop_duplicates().reset_index(drop=True)\n",
    "df_season.sort_values(by='seasonNumber')"
   ]
  },
  {
   "cell_type": "markdown",
   "id": "0d1ac8b2",
   "metadata": {},
   "source": [
    "# Answer the Questions"
   ]
  },
  {
   "cell_type": "markdown",
   "id": "23b6d447",
   "metadata": {},
   "source": [
    "a. Among all chef contestants, how many are male and how many are female?"
   ]
  },
  {
   "cell_type": "code",
   "execution_count": 12,
   "id": "edc3abd3",
   "metadata": {},
   "outputs": [
    {
     "data": {
      "text/plain": [
       "Male      170\n",
       "Female    152\n",
       "Name: gender, dtype: int64"
      ]
     },
     "execution_count": 12,
     "metadata": {},
     "output_type": "execute_result"
    }
   ],
   "source": [
    "gender = df_chefdetails.gender.value_counts()\n",
    "gender"
   ]
  },
  {
   "cell_type": "markdown",
   "id": "aafd0b99",
   "metadata": {},
   "source": [
    "b. Among all winners (placement==1) how many are male and how many are female?"
   ]
  },
  {
   "cell_type": "code",
   "execution_count": 13,
   "id": "bf09541a",
   "metadata": {},
   "outputs": [
    {
     "data": {
      "text/plain": [
       "Male      14\n",
       "Female     6\n",
       "Name: gender, dtype: int64"
      ]
     },
     "execution_count": 13,
     "metadata": {},
     "output_type": "execute_result"
    }
   ],
   "source": [
    "win = df_chefdetails[df_chefdetails['placement']==1]['gender'].value_counts()\n",
    "win"
   ]
  },
  {
   "cell_type": "markdown",
   "id": "ffe537b8",
   "metadata": {},
   "source": [
    "c. Among all sets of top 3 finalists (placement=1,2,3) how many are male and how many\n",
    "are female?"
   ]
  },
  {
   "cell_type": "code",
   "execution_count": 14,
   "id": "bf0358a4",
   "metadata": {},
   "outputs": [
    {
     "data": {
      "text/plain": [
       "Male      36\n",
       "Female    25\n",
       "Name: gender, dtype: int64"
      ]
     },
     "execution_count": 14,
     "metadata": {},
     "output_type": "execute_result"
    }
   ],
   "source": [
    "top3 = df_chefdetails[df_chefdetails['placement'].isin([1,2,3])]['gender'].value_counts()\n",
    "top3"
   ]
  },
  {
   "cell_type": "markdown",
   "id": "9c5b1c63",
   "metadata": {},
   "source": [
    "d. Compare the number of times a female was placed in the top 3 with the number of times\n",
    "a female won. Does this number seem unusual? That is, are women who place in the\n",
    "top 3 less likely than expected to ultimately win the competition? Why or why not?"
   ]
  },
  {
   "cell_type": "code",
   "execution_count": 15,
   "id": "a9938baa",
   "metadata": {},
   "outputs": [
    {
     "name": "stdout",
     "output_type": "stream",
     "text": [
      "Probability women who place in the top3 win the competition: 24.0%\n"
     ]
    }
   ],
   "source": [
    "p = win['Female'] / top3['Female']\n",
    "print(f'Probability women who place in the top3 win the competition: {p*100}%')\n"
   ]
  },
  {
   "cell_type": "markdown",
   "id": "2d59eaa5",
   "metadata": {},
   "source": [
    "Women who place in the top 3 less likely than expected to ultimately win the competition. <br>\n",
    "Since the probability that women who place in the top3 win the competition is just 24%"
   ]
  },
  {
   "cell_type": "markdown",
   "id": "0e879d5e",
   "metadata": {},
   "source": [
    "# 4. Make a table \n",
    "with one row for each first place winner containing the winner’s name,\n",
    "the season they won, and a column containing ‘Yes’ or ‘No’ depending on whether they\n",
    "served as a guest judge or not."
   ]
  },
  {
   "cell_type": "code",
   "execution_count": 16,
   "id": "092bc832",
   "metadata": {},
   "outputs": [],
   "source": [
    "df_onTC = df_judges[df_judges['competedOnTC']=='Yes']\n",
    "onTC_judge = set(df_onTC.guestJudge)"
   ]
  },
  {
   "cell_type": "code",
   "execution_count": 17,
   "id": "c6108024",
   "metadata": {},
   "outputs": [],
   "source": [
    "df_win = df_chefdetails[df_chefdetails['placement']==1]\n",
    "df_win = df_win[['name','season']]"
   ]
  },
  {
   "cell_type": "code",
   "execution_count": 18,
   "id": "426f31cb",
   "metadata": {},
   "outputs": [],
   "source": [
    "df_win['served_as_judge'] = np.nan\n",
    "df_win=df_win.reset_index(drop=True)"
   ]
  },
  {
   "cell_type": "code",
   "execution_count": 19,
   "id": "555d0c52",
   "metadata": {},
   "outputs": [],
   "source": [
    "for i in range( len(df_win)):\n",
    "    if df_win.at[i, 'name'] in onTC_judge:\n",
    "#         print(df_win.at[i, 'name'])\n",
    "        df_win.at[i, 'served_as_judge'] = 'Yes'\n",
    "    else:\n",
    "        df_win.at[i, 'served_as_judge'] = 'No'"
   ]
  },
  {
   "cell_type": "code",
   "execution_count": 20,
   "id": "9ff8d548",
   "metadata": {},
   "outputs": [
    {
     "data": {
      "text/html": [
       "<div>\n",
       "<style scoped>\n",
       "    .dataframe tbody tr th:only-of-type {\n",
       "        vertical-align: middle;\n",
       "    }\n",
       "\n",
       "    .dataframe tbody tr th {\n",
       "        vertical-align: top;\n",
       "    }\n",
       "\n",
       "    .dataframe thead th {\n",
       "        text-align: right;\n",
       "    }\n",
       "</style>\n",
       "<table border=\"1\" class=\"dataframe\">\n",
       "  <thead>\n",
       "    <tr style=\"text-align: right;\">\n",
       "      <th></th>\n",
       "      <th>name</th>\n",
       "      <th>season</th>\n",
       "      <th>served_as_judge</th>\n",
       "    </tr>\n",
       "  </thead>\n",
       "  <tbody>\n",
       "    <tr>\n",
       "      <th>0</th>\n",
       "      <td>Richard Blais</td>\n",
       "      <td>All Stars: New York</td>\n",
       "      <td>Yes</td>\n",
       "    </tr>\n",
       "    <tr>\n",
       "      <th>1</th>\n",
       "      <td>Melissa King</td>\n",
       "      <td>All-Stars L.A.</td>\n",
       "      <td>Yes</td>\n",
       "    </tr>\n",
       "    <tr>\n",
       "      <th>2</th>\n",
       "      <td>Mei Lin</td>\n",
       "      <td>Boston</td>\n",
       "      <td>No</td>\n",
       "    </tr>\n",
       "    <tr>\n",
       "      <th>3</th>\n",
       "      <td>Jeremy Ford</td>\n",
       "      <td>California</td>\n",
       "      <td>No</td>\n",
       "    </tr>\n",
       "    <tr>\n",
       "      <th>4</th>\n",
       "      <td>Brooke Williamson</td>\n",
       "      <td>Charleston</td>\n",
       "      <td>Yes</td>\n",
       "    </tr>\n",
       "    <tr>\n",
       "      <th>5</th>\n",
       "      <td>Stephanie Izard</td>\n",
       "      <td>Chicago</td>\n",
       "      <td>Yes</td>\n",
       "    </tr>\n",
       "    <tr>\n",
       "      <th>6</th>\n",
       "      <td>Kevin Sbraga</td>\n",
       "      <td>D.C.</td>\n",
       "      <td>No</td>\n",
       "    </tr>\n",
       "    <tr>\n",
       "      <th>7</th>\n",
       "      <td>Joseph Flamm</td>\n",
       "      <td>Colorado</td>\n",
       "      <td>No</td>\n",
       "    </tr>\n",
       "    <tr>\n",
       "      <th>8</th>\n",
       "      <td>Kah-wai Lo</td>\n",
       "      <td>Houston</td>\n",
       "      <td>No</td>\n",
       "    </tr>\n",
       "    <tr>\n",
       "      <th>9</th>\n",
       "      <td>Kelsey Barnard Clark</td>\n",
       "      <td>Kentucky</td>\n",
       "      <td>Yes</td>\n",
       "    </tr>\n",
       "    <tr>\n",
       "      <th>10</th>\n",
       "      <td>Michael Voltaggio</td>\n",
       "      <td>Las Vegas</td>\n",
       "      <td>Yes</td>\n",
       "    </tr>\n",
       "    <tr>\n",
       "      <th>11</th>\n",
       "      <td>Ilan Hall</td>\n",
       "      <td>Los Angeles</td>\n",
       "      <td>Yes</td>\n",
       "    </tr>\n",
       "    <tr>\n",
       "      <th>12</th>\n",
       "      <td>Hung Huynh</td>\n",
       "      <td>Miami</td>\n",
       "      <td>Yes</td>\n",
       "    </tr>\n",
       "    <tr>\n",
       "      <th>13</th>\n",
       "      <td>Nicholas Elmi</td>\n",
       "      <td>New Orleans</td>\n",
       "      <td>No</td>\n",
       "    </tr>\n",
       "    <tr>\n",
       "      <th>14</th>\n",
       "      <td>Hosea Rosenberg</td>\n",
       "      <td>New York</td>\n",
       "      <td>Yes</td>\n",
       "    </tr>\n",
       "    <tr>\n",
       "      <th>15</th>\n",
       "      <td>Gabe Erales</td>\n",
       "      <td>Portland</td>\n",
       "      <td>No</td>\n",
       "    </tr>\n",
       "    <tr>\n",
       "      <th>16</th>\n",
       "      <td>Harold Dieterle</td>\n",
       "      <td>San Francisco</td>\n",
       "      <td>Yes</td>\n",
       "    </tr>\n",
       "    <tr>\n",
       "      <th>17</th>\n",
       "      <td>Kristen Kish</td>\n",
       "      <td>Seattle</td>\n",
       "      <td>Yes</td>\n",
       "    </tr>\n",
       "    <tr>\n",
       "      <th>18</th>\n",
       "      <td>Paul Qui</td>\n",
       "      <td>Texas</td>\n",
       "      <td>No</td>\n",
       "    </tr>\n",
       "    <tr>\n",
       "      <th>19</th>\n",
       "      <td>Kah-wai Lo</td>\n",
       "      <td>World All Stars</td>\n",
       "      <td>No</td>\n",
       "    </tr>\n",
       "  </tbody>\n",
       "</table>\n",
       "</div>"
      ],
      "text/plain": [
       "                    name               season served_as_judge\n",
       "0          Richard Blais  All Stars: New York             Yes\n",
       "1           Melissa King       All-Stars L.A.             Yes\n",
       "2                Mei Lin               Boston              No\n",
       "3            Jeremy Ford           California              No\n",
       "4      Brooke Williamson           Charleston             Yes\n",
       "5        Stephanie Izard              Chicago             Yes\n",
       "6           Kevin Sbraga                 D.C.              No\n",
       "7           Joseph Flamm             Colorado              No\n",
       "8             Kah-wai Lo              Houston              No\n",
       "9   Kelsey Barnard Clark             Kentucky             Yes\n",
       "10     Michael Voltaggio            Las Vegas             Yes\n",
       "11             Ilan Hall          Los Angeles             Yes\n",
       "12            Hung Huynh                Miami             Yes\n",
       "13         Nicholas Elmi          New Orleans              No\n",
       "14       Hosea Rosenberg             New York             Yes\n",
       "15           Gabe Erales             Portland              No\n",
       "16       Harold Dieterle        San Francisco             Yes\n",
       "17          Kristen Kish              Seattle             Yes\n",
       "18              Paul Qui                Texas              No\n",
       "19            Kah-wai Lo      World All Stars              No"
      ]
     },
     "execution_count": 20,
     "metadata": {},
     "output_type": "execute_result"
    }
   ],
   "source": [
    "df_win"
   ]
  },
  {
   "cell_type": "markdown",
   "id": "fa016882",
   "metadata": {},
   "source": [
    "# 5. Find all contestants\n",
    "who were not first place winners but did serve as a guest judge at some point. Make sure to only list each name once."
   ]
  },
  {
   "cell_type": "code",
   "execution_count": 21,
   "id": "4419d855",
   "metadata": {},
   "outputs": [],
   "source": [
    "df_notwin = df_chefdetails[df_chefdetails['placement']!=1]"
   ]
  },
  {
   "cell_type": "code",
   "execution_count": 22,
   "id": "9beeca5a",
   "metadata": {},
   "outputs": [],
   "source": [
    "notwin_list=list(set(df_notwin.name))\n",
    "win_list = set(df_win.name)\n",
    "judge_list = set(df_judges.guestJudge)"
   ]
  },
  {
   "cell_type": "code",
   "execution_count": 23,
   "id": "d7ad2790",
   "metadata": {},
   "outputs": [],
   "source": [
    "notwin_judge = []\n",
    "\n",
    "for i in range(0,len(notwin_list)-1):\n",
    "    if notwin_list[i] in win_list:\n",
    "#         print(notwin_list[i])\n",
    "        continue\n",
    "    elif notwin_list[i] in judge_list:\n",
    "        notwin_judge.append(notwin_list[i])"
   ]
  },
  {
   "cell_type": "markdown",
   "id": "69dc9426",
   "metadata": {},
   "source": [
    "all contestants who were not first place winners but did serve as a guest judge at some point :"
   ]
  },
  {
   "cell_type": "code",
   "execution_count": 24,
   "id": "aaea1f20",
   "metadata": {},
   "outputs": [
    {
     "data": {
      "text/plain": [
       "['Amar Santana',\n",
       " 'Dawn Burrell',\n",
       " 'Karen Akunowicz',\n",
       " 'Sheldon Simeon',\n",
       " 'Spike Mendelsohn',\n",
       " 'Stephen Asprinio',\n",
       " 'Sam Talbot',\n",
       " 'Miguel Morales',\n",
       " 'Edward Lee',\n",
       " 'Nyesha Arrington',\n",
       " 'Kwame Onwuachi',\n",
       " 'Bryan Voltaggio',\n",
       " 'Tiffany Derry',\n",
       " 'Nina Compton',\n",
       " 'Nini Nguyen',\n",
       " 'Lee Anne Wong',\n",
       " 'Adrienne Cheatham',\n",
       " 'Dale Talde',\n",
       " 'Antonia Lofaso',\n",
       " 'Josie Smith-Malave',\n",
       " 'Shota Nakajima',\n",
       " 'Mike Isabella',\n",
       " 'Carrie Baird',\n",
       " 'Stefan Richter',\n",
       " 'Gregory Gourdet']"
      ]
     },
     "execution_count": 24,
     "metadata": {},
     "output_type": "execute_result"
    }
   ],
   "source": [
    "notwin_judge"
   ]
  }
 ],
 "metadata": {
  "kernelspec": {
   "display_name": "Python 3 (ipykernel)",
   "language": "python",
   "name": "python3"
  },
  "language_info": {
   "codemirror_mode": {
    "name": "ipython",
    "version": 3
   },
   "file_extension": ".py",
   "mimetype": "text/x-python",
   "name": "python",
   "nbconvert_exporter": "python",
   "pygments_lexer": "ipython3",
   "version": "3.11.4"
  }
 },
 "nbformat": 4,
 "nbformat_minor": 5
}
