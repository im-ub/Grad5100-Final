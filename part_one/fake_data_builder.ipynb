{
 "cells": [
  {
   "cell_type": "markdown",
   "id": "9521f1ec",
   "metadata": {},
   "source": [
    "# <center> GRAD5100 - Final project </center>\n",
    "## Part One\n",
    "## Yoobee Lim"
   ]
  },
  {
   "cell_type": "code",
   "execution_count": 1,
   "id": "d32f699d",
   "metadata": {},
   "outputs": [],
   "source": [
    "import pandas as pd\n",
    "import numpy as np\n",
    "import scipy.stats as stats\n",
    "import matplotlib.pyplot as plt\n",
    "# import random"
   ]
  },
  {
   "cell_type": "markdown",
   "id": "d525e9f5",
   "metadata": {},
   "source": [
    "# 1. Create a dataframe"
   ]
  },
  {
   "cell_type": "markdown",
   "id": "5fd4d896",
   "metadata": {},
   "source": [
    "There are 800 samples.\n",
    "\n",
    "• Each sample from the dataset has five features called ID, Group, Feature_1, Feature_2\n",
    "and Feature_3.\n",
    "\n",
    "• The ID feature is a unique identifier for each sample. The identifier has the form IDxxx\n",
    "where x is a three digit number.\n",
    "\n",
    "• The Group feature is either A, B, or C. Roughly a third of each sample lies in each group.\n",
    "\n",
    "• Feature_1 is sampled randomly from a normal distribution with mean 2500. About 66%\n",
    "of the data falls between 2200 and 2800.\n",
    "\n",
    "• Feature_2 is sampled randomly from a normal distribution with mean 400 and standard\n",
    "deviation 15.\n",
    "\n",
    "• Feature_3 depends on the Group feature. For A, Feature_3 is approximately\n",
    "3(Feature_1)-5(Feature_2). For B, Feature_3 is approximately 2(Feature_1). For\n",
    "C, Feature_3 is approximately -(Feature_1)+(Feature_2). In each of cases A, B, and\n",
    "C the difference between Feature_3 and the value given by the formula is a normally\n",
    "distributed random variable with mean 0 and standard deviation 12"
   ]
  },
  {
   "cell_type": "code",
   "execution_count": 2,
   "id": "702953f1",
   "metadata": {},
   "outputs": [],
   "source": [
    "np.random.seed(123)\n",
    "\n",
    "num_samples = 800"
   ]
  },
  {
   "cell_type": "code",
   "execution_count": 3,
   "id": "6d39ae6b",
   "metadata": {},
   "outputs": [],
   "source": [
    "# ID feature\n",
    "id_list=[]\n",
    "for i in range(0, num_samples):\n",
    "    id_list.append('ID{:03d}'.format(i))\n",
    "    i = i + 1\n",
    "\n",
    "# id_list"
   ]
  },
  {
   "cell_type": "code",
   "execution_count": 4,
   "id": "8b4cfa2f",
   "metadata": {},
   "outputs": [],
   "source": [
    "# Group feature\n",
    "num_A = num_samples // 3\n",
    "num_B = num_samples // 3\n",
    "num_C = num_samples - num_A - num_B\n",
    "\n",
    "values_group = ['A'] * num_A + ['B'] * num_B + ['C'] * num_C\n",
    "\n",
    "np.random.shuffle(values_group)"
   ]
  },
  {
   "cell_type": "code",
   "execution_count": 5,
   "id": "e4b33651",
   "metadata": {},
   "outputs": [],
   "source": [
    "# creat dataframe\n",
    "df = pd.DataFrame({\n",
    "    'ID': id_list,\n",
    "    'Group': values_group,\n",
    "    'Feature_1':np.random.normal(2500, (2800 - 2200)/2 , num_samples),\n",
    "    'Feature_2':np.random.normal(400, 15, num_samples),\n",
    "    'Feature_3':np.nan\n",
    "})"
   ]
  },
  {
   "cell_type": "code",
   "execution_count": 6,
   "id": "19d3faf9",
   "metadata": {},
   "outputs": [],
   "source": [
    "# feature 3\n",
    "for i in range(num_samples):\n",
    "    if df.at[i, 'Group'] == 'A':\n",
    "        df.at[i, 'Feature_3'] = 3 * df['Feature_1'][i] - 5 * df['Feature_2'][i] \n",
    "    elif df.at[i, 'Group'] == 'B':\n",
    "        df.at[i, 'Feature_3'] = 2 * df['Feature_1'][i] \n",
    "    elif df.at[i, 'Group'] == 'C':\n",
    "        df.at[i, 'Feature_3'] = -df['Feature_1'][i] + df['Feature_2'][i]\n",
    "    df.at[i, 'Feature_3'] += np.random.normal(0, 12)"
   ]
  },
  {
   "cell_type": "code",
   "execution_count": 7,
   "id": "abdf753d",
   "metadata": {},
   "outputs": [
    {
     "data": {
      "text/html": [
       "<div>\n",
       "<style scoped>\n",
       "    .dataframe tbody tr th:only-of-type {\n",
       "        vertical-align: middle;\n",
       "    }\n",
       "\n",
       "    .dataframe tbody tr th {\n",
       "        vertical-align: top;\n",
       "    }\n",
       "\n",
       "    .dataframe thead th {\n",
       "        text-align: right;\n",
       "    }\n",
       "</style>\n",
       "<table border=\"1\" class=\"dataframe\">\n",
       "  <thead>\n",
       "    <tr style=\"text-align: right;\">\n",
       "      <th></th>\n",
       "      <th>ID</th>\n",
       "      <th>Group</th>\n",
       "      <th>Feature_1</th>\n",
       "      <th>Feature_2</th>\n",
       "      <th>Feature_3</th>\n",
       "    </tr>\n",
       "  </thead>\n",
       "  <tbody>\n",
       "    <tr>\n",
       "      <th>0</th>\n",
       "      <td>ID000</td>\n",
       "      <td>A</td>\n",
       "      <td>2776.169682</td>\n",
       "      <td>414.794622</td>\n",
       "      <td>6276.214460</td>\n",
       "    </tr>\n",
       "    <tr>\n",
       "      <th>1</th>\n",
       "      <td>ID001</td>\n",
       "      <td>C</td>\n",
       "      <td>2402.354721</td>\n",
       "      <td>396.946906</td>\n",
       "      <td>-2004.254609</td>\n",
       "    </tr>\n",
       "    <tr>\n",
       "      <th>2</th>\n",
       "      <td>ID002</td>\n",
       "      <td>A</td>\n",
       "      <td>2926.545064</td>\n",
       "      <td>413.080180</td>\n",
       "      <td>6745.294400</td>\n",
       "    </tr>\n",
       "    <tr>\n",
       "      <th>3</th>\n",
       "      <td>ID003</td>\n",
       "      <td>A</td>\n",
       "      <td>2643.333887</td>\n",
       "      <td>398.748635</td>\n",
       "      <td>5939.400478</td>\n",
       "    </tr>\n",
       "    <tr>\n",
       "      <th>4</th>\n",
       "      <td>ID004</td>\n",
       "      <td>A</td>\n",
       "      <td>2243.307636</td>\n",
       "      <td>400.499021</td>\n",
       "      <td>4722.738542</td>\n",
       "    </tr>\n",
       "  </tbody>\n",
       "</table>\n",
       "</div>"
      ],
      "text/plain": [
       "      ID Group    Feature_1   Feature_2    Feature_3\n",
       "0  ID000     A  2776.169682  414.794622  6276.214460\n",
       "1  ID001     C  2402.354721  396.946906 -2004.254609\n",
       "2  ID002     A  2926.545064  413.080180  6745.294400\n",
       "3  ID003     A  2643.333887  398.748635  5939.400478\n",
       "4  ID004     A  2243.307636  400.499021  4722.738542"
      ]
     },
     "execution_count": 7,
     "metadata": {},
     "output_type": "execute_result"
    }
   ],
   "source": [
    "df.head()"
   ]
  },
  {
   "cell_type": "code",
   "execution_count": 8,
   "id": "a054510f",
   "metadata": {},
   "outputs": [
    {
     "data": {
      "text/plain": [
       "C    268\n",
       "A    266\n",
       "B    266\n",
       "Name: Group, dtype: int64"
      ]
     },
     "execution_count": 8,
     "metadata": {},
     "output_type": "execute_result"
    }
   ],
   "source": [
    "#check group\n",
    "df.Group.value_counts()"
   ]
  },
  {
   "cell_type": "markdown",
   "id": "7f33bdac",
   "metadata": {},
   "source": [
    "# 2. Answer the following questions:\n",
    "\n",
    "a. Based on the theoretical distribution of Feature_1, how many samples do you expect\n",
    "to find where the value of the feature is greater than 3000?\n",
    "\n",
    "b. How many samples did you actually find where Feature_1 is greater than 3000?\n",
    "\n",
    "c. Group the dataset by the Group field and compute the mean and standard deviation of\n",
    "Feature_3 within each group.\n"
   ]
  },
  {
   "cell_type": "code",
   "execution_count": 9,
   "id": "583681ba",
   "metadata": {},
   "outputs": [
    {
     "name": "stdout",
     "output_type": "stream",
     "text": [
      "Probability: 4.77903522728147 %\n",
      "Expected number(answer for a): 38.23228181825176\n"
     ]
    }
   ],
   "source": [
    "#a\n",
    "std_dev = (2800 - 2200)/2 \n",
    "\n",
    "prob_3000 = 1 - stats.norm.cdf(3000, 2500, std_dev)\n",
    "num_3000 = prob_3000 * num_samples\n",
    "\n",
    "print(f\"Probability: {prob_3000*100} %\")\n",
    "print(f\"Expected number(answer for a): {num_3000}\")"
   ]
  },
  {
   "cell_type": "code",
   "execution_count": 10,
   "id": "a307a5c6",
   "metadata": {},
   "outputs": [
    {
     "name": "stdout",
     "output_type": "stream",
     "text": [
      "Actuall number(answer for b): 38\n"
     ]
    }
   ],
   "source": [
    "#b\n",
    "list_3000 = df[df['Feature_1'] > 3000]\n",
    "\n",
    "print(f\"Actuall number(answer for b): {len(list_3000)}\")"
   ]
  },
  {
   "cell_type": "code",
   "execution_count": 11,
   "id": "01a07b7e",
   "metadata": {},
   "outputs": [
    {
     "name": "stdout",
     "output_type": "stream",
     "text": [
      "the mean and standard deviation of feature3 within each group:\n"
     ]
    },
    {
     "data": {
      "text/html": [
       "<div>\n",
       "<style scoped>\n",
       "    .dataframe tbody tr th:only-of-type {\n",
       "        vertical-align: middle;\n",
       "    }\n",
       "\n",
       "    .dataframe tbody tr th {\n",
       "        vertical-align: top;\n",
       "    }\n",
       "\n",
       "    .dataframe thead th {\n",
       "        text-align: right;\n",
       "    }\n",
       "</style>\n",
       "<table border=\"1\" class=\"dataframe\">\n",
       "  <thead>\n",
       "    <tr style=\"text-align: right;\">\n",
       "      <th></th>\n",
       "      <th>mean</th>\n",
       "      <th>std</th>\n",
       "    </tr>\n",
       "    <tr>\n",
       "      <th>Group</th>\n",
       "      <th></th>\n",
       "      <th></th>\n",
       "    </tr>\n",
       "  </thead>\n",
       "  <tbody>\n",
       "    <tr>\n",
       "      <th>A</th>\n",
       "      <td>5469.374981</td>\n",
       "      <td>923.320951</td>\n",
       "    </tr>\n",
       "    <tr>\n",
       "      <th>B</th>\n",
       "      <td>4998.698717</td>\n",
       "      <td>593.463399</td>\n",
       "    </tr>\n",
       "    <tr>\n",
       "      <th>C</th>\n",
       "      <td>-2125.465093</td>\n",
       "      <td>326.958056</td>\n",
       "    </tr>\n",
       "  </tbody>\n",
       "</table>\n",
       "</div>"
      ],
      "text/plain": [
       "              mean         std\n",
       "Group                         \n",
       "A      5469.374981  923.320951\n",
       "B      4998.698717  593.463399\n",
       "C     -2125.465093  326.958056"
      ]
     },
     "execution_count": 11,
     "metadata": {},
     "output_type": "execute_result"
    }
   ],
   "source": [
    "#c\n",
    "print(\"the mean and standard deviation of feature3 within each group:\")\n",
    "\n",
    "df.groupby(by=[\"Group\"])['Feature_3'].agg(['mean', 'std'])"
   ]
  },
  {
   "cell_type": "markdown",
   "id": "cd3c9e49",
   "metadata": {},
   "source": [
    "# 3. Make a scatterplot of Feature_3 vs Feature_1."
   ]
  },
  {
   "cell_type": "code",
   "execution_count": 12,
   "id": "231db3e1",
   "metadata": {},
   "outputs": [
    {
     "data": {
      "image/png": "[encoded data removed]",
      "text/plain": [
       "<Figure size 640x480 with 1 Axes>"
      ]
     },
     "metadata": {},
     "output_type": "display_data"
    }
   ],
   "source": [
    "plt.scatter(df['Feature_1'], df['Feature_3'])\n",
    "plt.xlabel('Feature_1')\n",
    "plt.ylabel('Feature_3')\n",
    "plt.show()"
   ]
  },
  {
   "cell_type": "markdown",
   "id": "a4b9b28f",
   "metadata": {},
   "source": [
    "# 4. Write your constructed dataframe/tibble to a csv file called fake_data.csv."
   ]
  },
  {
   "cell_type": "code",
   "execution_count": 13,
   "id": "5c0aed65",
   "metadata": {},
   "outputs": [],
   "source": [
    "df.to_csv('fake_data.csv', encoding = 'utf-8')"
   ]
  },
  {
   "cell_type": "code",
   "execution_count": null,
   "id": "94451d2b",
   "metadata": {},
   "outputs": [],
   "source": []
  }
 ],
 "metadata": {
  "kernelspec": {
   "display_name": "Python 3 (ipykernel)",
   "language": "python",
   "name": "python3"
  },
  "language_info": {
   "codemirror_mode": {
    "name": "ipython",
    "version": 3
   },
   "file_extension": ".py",
   "mimetype": "text/x-python",
   "name": "python",
   "nbconvert_exporter": "python",
   "pygments_lexer": "ipython3",
   "version": "3.11.4"
  }
 },
 "nbformat": 4,
 "nbformat_minor": 5
}
