{
 "cells": [
  {
   "cell_type": "markdown",
   "id": "fac4d9ef",
   "metadata": {},
   "source": [
    "# <center> GRAD5100 - Final project </center>\n",
    "## Part Two\n",
    "## Yoobee Lim"
   ]
  },
  {
   "cell_type": "code",
   "execution_count": 1,
   "id": "7af99ac3",
   "metadata": {},
   "outputs": [],
   "source": [
    "import pandas as pd\n",
    "import numpy as np\n",
    "import os"
   ]
  },
  {
   "cell_type": "code",
   "execution_count": 2,
   "id": "4a7057a8",
   "metadata": {},
   "outputs": [
    {
     "data": {
      "text/plain": [
       "'/Users/imub/Desktop/Fall_semester/Grad5100/Final'"
      ]
     },
     "execution_count": 2,
     "metadata": {},
     "output_type": "execute_result"
    }
   ],
   "source": [
    "#check files path\n",
    "os.getcwd() #+'/expanded/'"
   ]
  },
  {
   "cell_type": "markdown",
   "id": "719dafef",
   "metadata": {},
   "source": [
    "## 1. Open Codes.txt files"
   ]
  },
  {
   "cell_type": "code",
   "execution_count": 3,
   "id": "0b2c8cd7",
   "metadata": {},
   "outputs": [],
   "source": [
    "file = open('codes.txt','r')"
   ]
  },
  {
   "cell_type": "code",
   "execution_count": 4,
   "id": "69a172d0",
   "metadata": {},
   "outputs": [],
   "source": [
    "code = file.read()\n",
    "code_list = code.split(\"\\n\")\n",
    "file.close()"
   ]
  },
  {
   "cell_type": "markdown",
   "id": "b90641c1",
   "metadata": {},
   "source": [
    "## 2. Write a function that \n",
    "extracts the 5 digit number xxxxx and append to list `x`\n",
    "\n",
    "extracts extracts the alphabetic code nnnnn and thhe extension and returns a string of the form `nnnnn.extension` and append to list `n_ext`"
   ]
  },
  {
   "cell_type": "code",
   "execution_count": 5,
   "id": "62e8cafa",
   "metadata": {},
   "outputs": [],
   "source": [
    "n_ext = [] # list of nnnnn.extension\n",
    "x = [] # list of xxxxx\n",
    "def transformation(input_list):\n",
    "    for i in range(0, len(input_list)):\n",
    "        code_i = code_list[i].split('_')\n",
    "        x.append(code_i[0])\n",
    "        n_ext.append(code_i[1]+'.'+code_i[2])"
   ]
  },
  {
   "cell_type": "code",
   "execution_count": 6,
   "id": "d314c8ab",
   "metadata": {},
   "outputs": [],
   "source": [
    "transformation(code_list)"
   ]
  },
  {
   "cell_type": "markdown",
   "id": "551513df",
   "metadata": {},
   "source": [
    "## 3. create files \n",
    "called `nnnnn.extension` containing `xxxxx`"
   ]
  },
  {
   "cell_type": "code",
   "execution_count": 7,
   "id": "2b9dca77",
   "metadata": {},
   "outputs": [],
   "source": [
    "def create_files(list_number, list_filename, input_list):\n",
    "    for i in range(0, len(input_list)):\n",
    "        with open(os.getcwd()+'/expanded/'+ list_filename[i], 'w') as file:\n",
    "            file.write(list_number[i])"
   ]
  },
  {
   "cell_type": "code",
   "execution_count": 8,
   "id": "324c81d0",
   "metadata": {},
   "outputs": [],
   "source": [
    "create_files(x, n_ext, code_list)"
   ]
  },
  {
   "cell_type": "code",
   "execution_count": null,
   "id": "93d3064f",
   "metadata": {},
   "outputs": [],
   "source": []
  }
 ],
 "metadata": {
  "kernelspec": {
   "display_name": "Python 3 (ipykernel)",
   "language": "python",
   "name": "python3"
  },
  "language_info": {
   "codemirror_mode": {
    "name": "ipython",
    "version": 3
   },
   "file_extension": ".py",
   "mimetype": "text/x-python",
   "name": "python",
   "nbconvert_exporter": "python",
   "pygments_lexer": "ipython3",
   "version": "3.11.4"
  }
 },
 "nbformat": 4,
 "nbformat_minor": 5
}
